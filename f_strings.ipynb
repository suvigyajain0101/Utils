{
  "nbformat": 4,
  "nbformat_minor": 0,
  "metadata": {
    "colab": {
      "name": "f_strings.ipynb",
      "provenance": [],
      "collapsed_sections": []
    },
    "kernelspec": {
      "name": "python3",
      "display_name": "Python 3"
    },
    "language_info": {
      "name": "python"
    }
  },
  "cells": [
    {
      "cell_type": "markdown",
      "metadata": {
        "id": "ydhky7-YpPok"
      },
      "source": [
        "Welcome to world of f-strings or Format Strings\n",
        "\n",
        "Extremely powerful and super easy to use. Let's get into it"
      ]
    },
    {
      "cell_type": "code",
      "metadata": {
        "id": "PQLi7DldpckC"
      },
      "source": [
        "# Suppose you want to print output of your operations (function, or a class or whatever) and you want to make it dynamic.\n",
        "# There are various ways to do that."
      ],
      "execution_count": 1,
      "outputs": []
    },
    {
      "cell_type": "code",
      "metadata": {
        "colab": {
          "base_uri": "https://localhost:8080/"
        },
        "id": "WHxnSHDlprY0",
        "outputId": "9d216fba-57d1-4e78-806c-6b2a6e44400a"
      },
      "source": [
        "a = 10\n",
        "\n",
        "print(\"The variable a has value : \", a)"
      ],
      "execution_count": 2,
      "outputs": [
        {
          "output_type": "stream",
          "text": [
            "THe variable a has value :  10\n"
          ],
          "name": "stdout"
        }
      ]
    },
    {
      "cell_type": "code",
      "metadata": {
        "id": "N_XknHVDpvsR"
      },
      "source": [
        "# Now, as you change a, the print statements gets updated accordingly"
      ],
      "execution_count": 3,
      "outputs": []
    },
    {
      "cell_type": "code",
      "metadata": {
        "colab": {
          "base_uri": "https://localhost:8080/"
        },
        "id": "6WC9nnZkp1ut",
        "outputId": "6a7d509c-cc91-4a2f-eb57-19d22fe0a0d5"
      },
      "source": [
        "# Another way, but not recommended due to obvious scope of bugs and performance\n",
        "b = 15\n",
        "\n",
        "print(\"The variable b has value : \" + str(b))"
      ],
      "execution_count": 4,
      "outputs": [
        {
          "output_type": "stream",
          "text": [
            "The variable b has value : 15\n"
          ],
          "name": "stdout"
        }
      ]
    },
    {
      "cell_type": "code",
      "metadata": {
        "colab": {
          "base_uri": "https://localhost:8080/"
        },
        "id": "65DiSX2MqJeP",
        "outputId": "43bf1d0d-0fb5-4242-e8ea-4635b083b25c"
      },
      "source": [
        "# Now comes into the picture Formatted strings - \n",
        "c = 5\n",
        "\n",
        "print(\"The variable c has value : {k}\".format(k = c))"
      ],
      "execution_count": 5,
      "outputs": [
        {
          "output_type": "stream",
          "text": [
            "The variable c has value : 5\n"
          ],
          "name": "stdout"
        }
      ]
    },
    {
      "cell_type": "code",
      "metadata": {
        "id": "yEFEdE6hqWu0"
      },
      "source": [
        "# So we basically put a placeholder in the string and assign it as a param in format()\n",
        "# Note that the placeholder name inside the string may or may not be the same as the variable it's trying to refer\n",
        "\n",
        "# There is an even better way to do this"
      ],
      "execution_count": 6,
      "outputs": []
    },
    {
      "cell_type": "code",
      "metadata": {
        "colab": {
          "base_uri": "https://localhost:8080/"
        },
        "id": "cRqrqmHtqwtz",
        "outputId": "049497dc-4f41-49e8-ef7e-7b3baae724a4"
      },
      "source": [
        "# f-strings!!\n",
        "d = 90\n",
        "\n",
        "print(f\"The variable d has value : {d}\")"
      ],
      "execution_count": 7,
      "outputs": [
        {
          "output_type": "stream",
          "text": [
            "The variable d has value : 90\n"
          ],
          "name": "stdout"
        }
      ]
    },
    {
      "cell_type": "code",
      "metadata": {
        "id": "_rnR-PqRq4H3"
      },
      "source": [
        "# Clean, concise, easy to understand and on point"
      ],
      "execution_count": 8,
      "outputs": []
    }
  ]
}