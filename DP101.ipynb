{
  "nbformat": 4,
  "nbformat_minor": 0,
  "metadata": {
    "colab": {
      "name": "DP101.ipynb",
      "provenance": [],
      "authorship_tag": "ABX9TyOwrEGlkebgEM3wx0SJfULL"
    },
    "kernelspec": {
      "name": "python3",
      "display_name": "Python 3"
    },
    "language_info": {
      "name": "python"
    }
  },
  "cells": [
    {
      "cell_type": "markdown",
      "source": [
        "# Dynamic Programming Basics\n",
        "\n",
        "The notebook highlights the power of DP using a simple example on fibonacci numbers.\n",
        "\n",
        "We will use Python's timeit library to compare the performance of Recursion based approach and DP based approach"
      ],
      "metadata": {
        "id": "KHG0nuzNdLzg"
      }
    },
    {
      "cell_type": "code",
      "source": [
        "from timeit import Timer"
      ],
      "metadata": {
        "id": "RcQUdTfydXbO"
      },
      "execution_count": 1,
      "outputs": []
    },
    {
      "cell_type": "code",
      "source": [
        "# This is an exponential implementation of returning nth fibonacci number\n",
        "def rec_fib(n):\n",
        "  if n == 0:\n",
        "    return 1\n",
        "  elif n == 1:\n",
        "    return 1\n",
        "  else:\n",
        "    return rec_fib(n-1) + rec_fib(n-2)"
      ],
      "metadata": {
        "id": "YIp0U6EKeqxr"
      },
      "execution_count": 2,
      "outputs": []
    },
    {
      "cell_type": "code",
      "source": [
        "def dp_fib(n):\n",
        "  if n == 0:\n",
        "    return 1\n",
        "  elif n == 1:\n",
        "    return 1\n",
        "\n",
        "  else:\n",
        "    # This approach makes exactly n O(1) calls and rest are all constant time ops\n",
        "    table = [0 for i in range(n+1)]\n",
        "\n",
        "    table[0] = 1\n",
        "    table[1] = 1\n",
        "\n",
        "    for i in range(2, n+1):\n",
        "      table[i] = table[i-1] + table[i-2]\n",
        "\n",
        "    return table[n]"
      ],
      "metadata": {
        "id": "qx_u9ByqfjTW"
      },
      "execution_count": 3,
      "outputs": []
    },
    {
      "cell_type": "markdown",
      "source": [
        "Let's plot the time-profile of both the implementation for 30 numbers"
      ],
      "metadata": {
        "id": "68hku1z70c18"
      }
    },
    {
      "cell_type": "code",
      "source": [
        "rec_timing = [Timer(lambda: rec_fib(i)).timeit(number=1) for i in range(30)]\n",
        "dp_timing = [Timer(lambda: dp_fib(i)).timeit(number=1) for i in range(30)]"
      ],
      "metadata": {
        "id": "MHq1OkZvijZN"
      },
      "execution_count": 4,
      "outputs": []
    },
    {
      "cell_type": "code",
      "source": [
        "import matplotlib.pyplot as plt\n",
        "plt.plot(rec_timing, \"-b\", label=\"Recursion\")\n",
        "plt.plot(dp_timing, \"-r\", label=\"DP\")\n",
        "plt.legend(loc=\"upper left\")\n",
        "plt.title('Time Taken to fetch nth Fibonacci Number')\n",
        "plt.show()"
      ],
      "metadata": {
        "colab": {
          "base_uri": "https://localhost:8080/",
          "height": 281
        },
        "id": "S44IVaAR0kgH",
        "outputId": "1ef18aff-12e3-4981-f571-5d589f226b7c"
      },
      "execution_count": 11,
      "outputs": [
        {
          "output_type": "display_data",
          "data": {
            "text/plain": [
              "<Figure size 432x288 with 1 Axes>"
            ],
            "image/png": "[encoded data removed]"
          },
          "metadata": {
            "needs_background": "light"
          }
        }
      ]
    },
    {
      "cell_type": "markdown",
      "source": [
        "As shown in the plot, DP implementation outperforms the recursive implementation\n",
        "\n",
        "More importantly, as the number grows, i.e., the number of recursion calls grow, the difference becomes much larger!"
      ],
      "metadata": {
        "id": "kgZdcpDv05eU"
      }
    }
  ]
}