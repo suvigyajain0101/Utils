{
  "nbformat": 4,
  "nbformat_minor": 0,
  "metadata": {
    "colab": {
      "name": "DP101.ipynb",
      "provenance": [],
      "authorship_tag": "ABX9TyOcS85CFIEe3ko38D5k3fre"
    },
    "kernelspec": {
      "name": "python3",
      "display_name": "Python 3"
    },
    "language_info": {
      "name": "python"
    }
  },
  "cells": [
    {
      "cell_type": "markdown",
      "source": [
        "# Dynamic Programming Basics\n",
        "\n",
        "The notebook highlights the power of DP using a simple example on fibonacci numbers.\n",
        "\n",
        "We will use Python's timeit library to compare the performance of Recursion based approach and DP based approach"
      ],
      "metadata": {
        "id": "KHG0nuzNdLzg"
      }
    },
    {
      "cell_type": "code",
      "source": [
        "from timeit import Timer"
      ],
      "metadata": {
        "id": "RcQUdTfydXbO"
      },
      "execution_count": 1,
      "outputs": []
    },
    {
      "cell_type": "code",
      "source": [
        "# This is an exponential implementation of returning nth fibonacci number\n",
        "def rec_fib(n):\n",
        "  if n == 0:\n",
        "    return 1\n",
        "  elif n == 1:\n",
        "    return 1\n",
        "  else:\n",
        "    return rec_fib(n-1) + rec_fib(n-2)"
      ],
      "metadata": {
        "id": "YIp0U6EKeqxr"
      },
      "execution_count": 2,
      "outputs": []
    },
    {
      "cell_type": "code",
      "source": [
        "def dp_fib(n):\n",
        "  if n == 0:\n",
        "    return 1\n",
        "  elif n == 1:\n",
        "    return 1\n",
        "\n",
        "  else:\n",
        "    # This approach makes exactly n O(1) calls and rest are all constant time ops\n",
        "    table = [0 for i in range(n+1)]\n",
        "\n",
        "    table[0] = 1\n",
        "    table[1] = 1\n",
        "\n",
        "    for i in range(2, n+1):\n",
        "      table[i] = table[i-1] + table[i-2]\n",
        "\n",
        "    return table[n]"
      ],
      "metadata": {
        "id": "qx_u9ByqfjTW"
      },
      "execution_count": 9,
      "outputs": []
    },
    {
      "cell_type": "code",
      "source": [
        "rec_timing = [Timer(lambda: rec_fib(i)).timeit(number=1) for i in range(10)]\n",
        "dp_timing = [Timer(lambda: dp_fib(i)).timeit(number=1) for i in range(10)]\n",
        "\n",
        "rec_timing, dp_timing"
      ],
      "metadata": {
        "colab": {
          "base_uri": "https://localhost:8080/"
        },
        "id": "MHq1OkZvijZN",
        "outputId": "6873e1cb-e08b-434f-c2c2-f021c49d079a"
      },
      "execution_count": 14,
      "outputs": [
        {
          "output_type": "execute_result",
          "data": {
            "text/plain": [
              "([4.7250000534404535e-06,\n",
              "  1.7600000319362152e-06,\n",
              "  2.9430000267893774e-06,\n",
              "  4.857000021729618e-06,\n",
              "  5.075999979453627e-06,\n",
              "  8.318000027429662e-06,\n",
              "  5.084999884275021e-06,\n",
              "  7.159000006140559e-06,\n",
              "  1.092700017579773e-05,\n",
              "  1.667400010774145e-05],\n",
              " [2.4840001060510986e-06,\n",
              "  8.099998467514524e-07,\n",
              "  4.8650001645000884e-06,\n",
              "  3.052000010939082e-06,\n",
              "  2.9719999474764336e-06,\n",
              "  3.0960000003688037e-06,\n",
              "  3.2150001061381772e-06,\n",
              "  3.302000095573021e-06,\n",
              "  5.509000175152323e-06,\n",
              "  3.7450001855177106e-06])"
            ]
          },
          "metadata": {},
          "execution_count": 14
        }
      ]
    }
  ]
}