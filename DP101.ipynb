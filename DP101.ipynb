{
  "nbformat": 4,
  "nbformat_minor": 0,
  "metadata": {
    "colab": {
      "name": "DP101.ipynb",
      "provenance": [],
      "authorship_tag": "ABX9TyPAS8TT9bkjEZ3l6k+datRN"
    },
    "kernelspec": {
      "name": "python3",
      "display_name": "Python 3"
    },
    "language_info": {
      "name": "python"
    }
  },
  "cells": [
    {
      "cell_type": "markdown",
      "source": [
        "# Dynamic Programming Basics\n",
        "\n",
        "The notebook highlights the power of DP using a simple example on fibonacci numbers.\n",
        "\n",
        "We will use Python's timeit library to compare the performance of Recursion based approach and DP based approach"
      ],
      "metadata": {
        "id": "KHG0nuzNdLzg"
      }
    },
    {
      "cell_type": "code",
      "source": [
        "from timeit import Timer"
      ],
      "metadata": {
        "id": "RcQUdTfydXbO"
      },
      "execution_count": 1,
      "outputs": []
    },
    {
      "cell_type": "code",
      "source": [
        "def rec_fib(n):\n",
        "  if n == 0:\n",
        "    return 1\n",
        "  elif n == 1:\n",
        "    return 1\n",
        "  else:\n",
        "    return rec_fib(n-1) + rec_fib(n-2)"
      ],
      "metadata": {
        "colab": {
          "base_uri": "https://localhost:8080/"
        },
        "id": "YIp0U6EKeqxr",
        "outputId": "fc614a03-c377-4a52-8241-d6344df7434c"
      },
      "execution_count": 7,
      "outputs": [
        {
          "output_type": "execute_result",
          "data": {
            "text/plain": [
              "89"
            ]
          },
          "metadata": {},
          "execution_count": 7
        }
      ]
    },
    {
      "cell_type": "code",
      "source": [
        "def dp_fib(n):\n",
        "  # This approach makes exactly n O(1) calls and rest are all constant time ops\n",
        "  table = [0 for i in range(n+1)]\n",
        "\n",
        "  table[0] = 1\n",
        "  table[1] = 1\n",
        "\n",
        "  for i in range(2, n+1):\n",
        "    table[i] = table[i-1] + table[i-2]\n",
        "\n",
        "  return table[n]"
      ],
      "metadata": {
        "colab": {
          "base_uri": "https://localhost:8080/"
        },
        "id": "qx_u9ByqfjTW",
        "outputId": "c896af37-565f-4eff-b868-66f066ab2afc"
      },
      "execution_count": 15,
      "outputs": [
        {
          "output_type": "execute_result",
          "data": {
            "text/plain": [
              "573147844013817084101"
            ]
          },
          "metadata": {},
          "execution_count": 15
        }
      ]
    }
  ]
}