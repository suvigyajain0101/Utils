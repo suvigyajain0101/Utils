{
 "cells": [
  {
   "cell_type": "markdown",
   "metadata": {},
   "source": [
    "# In this notebook, we will understand basics of DateTime data type in python"
   ]
  },
  {
   "cell_type": "code",
   "execution_count": 1,
   "metadata": {},
   "outputs": [
    {
     "name": "stdout",
     "output_type": "stream",
     "text": [
      "2021-06-18 20:44:03.430273\n",
      "Type :-  <class 'datetime.datetime'>\n"
     ]
    }
   ],
   "source": [
    "# import datetime class from datetime module\n",
    "from datetime import datetime\n",
    "\n",
    "# get current date\n",
    "datetime_object = datetime.now()\n",
    "print(datetime_object)\n",
    "print('Type :- ',type(datetime_object))"
   ]
  },
  {
   "cell_type": "markdown",
   "metadata": {},
   "source": [
    "### Convert a string into DateTime object"
   ]
  },
  {
   "cell_type": "code",
   "execution_count": 2,
   "metadata": {},
   "outputs": [
    {
     "name": "stdout",
     "output_type": "stream",
     "text": [
      "2020-11-08 00:00:00\n",
      "Type:  <class 'datetime.datetime'>\n"
     ]
    }
   ],
   "source": [
    "my_string = '2020-11-08'\n",
    "\n",
    "# Create date object in given time format yyyy-mm-dd\n",
    "my_date = datetime.strptime(my_string, \"%Y-%m-%d\")\n",
    "\n",
    "print(my_date)\n",
    "print('Type: ',type(my_date))"
   ]
  }
 ],
 "metadata": {
  "kernelspec": {
   "display_name": "Python 3",
   "language": "python",
   "name": "python3"
  },
  "language_info": {
   "codemirror_mode": {
    "name": "ipython",
    "version": 3
   },
   "file_extension": ".py",
   "mimetype": "text/x-python",
   "name": "python",
   "nbconvert_exporter": "python",
   "pygments_lexer": "ipython3",
   "version": "3.8.5"
  }
 },
 "nbformat": 4,
 "nbformat_minor": 4
}
