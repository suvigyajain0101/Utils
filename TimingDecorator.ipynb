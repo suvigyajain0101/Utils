{
  "nbformat": 4,
  "nbformat_minor": 0,
  "metadata": {
    "colab": {
      "name": "TimingDecorator.ipynb",
      "provenance": [],
      "collapsed_sections": [],
      "authorship_tag": "ABX9TyMWcIbaLCnJZ2Z1wFNOi6Tr"
    },
    "kernelspec": {
      "name": "python3",
      "display_name": "Python 3"
    },
    "language_info": {
      "name": "python"
    }
  },
  "cells": [
    {
      "cell_type": "markdown",
      "metadata": {
        "id": "1Mq_Eo42tphj"
      },
      "source": [
        "In this notebook, we look at a very cool application of Python decorators - time a function\n",
        "\n",
        "But first, what is a decorator?\n",
        "A decorator is used to enhance a function, or modify it, or decorate it! Basically, it takes in a function as the input, calls the function and returns function output PLUS SOMETHING ELSE. \n",
        "It's a higher order function which wraps other function(s)\n",
        "\n",
        "Let's say we want to create our own way of printing. Every time, we get an output from the function, we wrap it inside '-------'. One way would be to update the return statements in the function and append '-------'. \n",
        "\n",
        "What if we needed to do this for 20 functions. Better way would be to define a decorator"
      ]
    },
    {
      "cell_type": "code",
      "metadata": {
        "colab": {
          "base_uri": "https://localhost:8080/"
        },
        "id": "zWk_OORqugPq",
        "outputId": "c30647fc-cc00-41a7-eaad-d41a9b5c91b8"
      },
      "source": [
        "def demo_function():\n",
        "  \"\"\"This function just prints. It is this function whose output we need to wrap inside '-------'\n",
        "  \"\"\"\n",
        "  print(\"This sentence needs to wrapped\")\n",
        "\n",
        "def pprint_decorator(func):\n",
        "  \"\"\" This decorator takes in input a function and wraps its output inside '------'\n",
        "  \"\"\"\n",
        "\n",
        "  def wrapper_function(*args, **kwargs):\n",
        "    print(\"-\"*10)\n",
        "    func(*args, **kwargs)\n",
        "    print(\"-\"*10)\n",
        "  return wrapper_function\n",
        "\n",
        "\n",
        "pprint_decorator(demo_function)()"
      ],
      "execution_count": null,
      "outputs": [
        {
          "output_type": "stream",
          "text": [
            "----------\n",
            "This sentence needs to wrapped\n",
            "----------\n"
          ],
          "name": "stdout"
        }
      ]
    },
    {
      "cell_type": "code",
      "metadata": {
        "id": "JeBXr4Y0wVeK"
      },
      "source": [
        "# Indeed it was wrapped. Let's look at another example"
      ],
      "execution_count": null,
      "outputs": []
    },
    {
      "cell_type": "code",
      "metadata": {
        "colab": {
          "base_uri": "https://localhost:8080/"
        },
        "id": "HqBbj6BmwXXP",
        "outputId": "affc3fdd-fd53-433e-fc9b-ea5201a6ea73"
      },
      "source": [
        "def pprint_decorator2(func):\n",
        "  \"\"\" This decorator takes in input a function and wraps its output inside '------'\n",
        "  \"\"\"\n",
        "\n",
        "  def wrapper_function(*args, **kwargs):\n",
        "    print('-'*10)\n",
        "    func(*args, **kwargs)\n",
        "    print('-'*10)\n",
        "  \n",
        "  return wrapper_function\n",
        "\n",
        "\n",
        "@pprint_decorator2 # Another way (better) to assign the decorator\n",
        "def yet_another_printer():\n",
        "  print(\"This sentence will also be wrapped\")\n",
        "\n",
        "\n",
        "# Cleaner function call!!\n",
        "yet_another_printer()"
      ],
      "execution_count": null,
      "outputs": [
        {
          "output_type": "stream",
          "text": [
            "----------\n",
            "This sentence will also be wrapped\n",
            "----------\n"
          ],
          "name": "stdout"
        }
      ]
    },
    {
      "cell_type": "markdown",
      "metadata": {
        "id": "sUrpb8FpxZTB"
      },
      "source": [
        "### Timing Decorator\n",
        "\n",
        "We want to create a decorator which returns the time taken to execute a function. Jupyter notebooks, Colab notebooks have features to do this, but this kind of decorator can come in a lot handy when using .py files"
      ]
    },
    {
      "cell_type": "code",
      "metadata": {
        "colab": {
          "base_uri": "https://localhost:8080/"
        },
        "id": "3RzatXj3yGm0",
        "outputId": "e41c1045-dd79-445a-9026-4b39711bdf8b"
      },
      "source": [
        "import time\n",
        "\n",
        "def timer(func):\n",
        "  \"\"\" Python Decorator to return the time taken by child function\n",
        "  \"\"\"\n",
        "\n",
        "  def wrapper_func(*args, **kwargs):\n",
        "    start_time = time.time()\n",
        "    result = func(*args, *kwargs)\n",
        "    print(\"Time taken by the function : \", time.time() - start_time)\n",
        "    return result\n",
        "  \n",
        "  return wrapper_func\n",
        "\n",
        "\n",
        "@timer\n",
        "def demo_func2():\n",
        "  print(\"Let's see how much time it takes Python to print this statement\")\n",
        "\n",
        "demo_func2()"
      ],
      "execution_count": null,
      "outputs": [
        {
          "output_type": "stream",
          "text": [
            "Let's see how much time it takes Python to print this statement\n",
            "Time taken by the function :  0.00047206878662109375\n"
          ],
          "name": "stdout"
        }
      ]
    },
    {
      "cell_type": "code",
      "metadata": {
        "colab": {
          "base_uri": "https://localhost:8080/"
        },
        "id": "49kDYDwoy5Zb",
        "outputId": "fb3f1e8b-3b21-4db2-8a50-3f7e6467c604"
      },
      "source": [
        "# Demo of the timer decorator with something that takes a bit of time\n",
        "\n",
        "@timer\n",
        "def demo_func3(input_num):\n",
        "  \"\"\" Function prints all the numbers from 0 to input at an interval of 10 seconds\n",
        "  \"\"\"\n",
        "  for i in range(input_num):\n",
        "    print(i)\n",
        "    time.sleep(10)\n",
        "\n",
        "demo_func3(5)"
      ],
      "execution_count": null,
      "outputs": [
        {
          "output_type": "stream",
          "text": [
            "0\n",
            "1\n",
            "2\n",
            "3\n",
            "4\n",
            "Time taken by the function :  50.05265688896179\n"
          ],
          "name": "stdout"
        }
      ]
    },
    {
      "cell_type": "code",
      "metadata": {
        "colab": {
          "base_uri": "https://localhost:8080/"
        },
        "id": "QX-xsW5S0BWS",
        "outputId": "ad04c84d-07c8-4fac-f809-cde1e4f55e00"
      },
      "source": [
        "# Another example\n",
        "\n",
        "@timer\n",
        "def long_time(n):\n",
        "  \"\"\" Arbitrary function to take up time and resources in the world!!\n",
        "  \"\"\"\n",
        "  output = 0\n",
        "  for i in range(n):\n",
        "      for j in range(100000):\n",
        "          output += i*j\n",
        "      output = output / n\n",
        "  return output\n",
        "\n",
        "\n",
        "long_time(100)"
      ],
      "execution_count": null,
      "outputs": [
        {
          "output_type": "stream",
          "text": [
            "Time taken by the function :  1.0706167221069336\n"
          ],
          "name": "stdout"
        },
        {
          "output_type": "execute_result",
          "data": {
            "text/plain": [
              "4999439853.076217"
            ]
          },
          "metadata": {
            "tags": []
          },
          "execution_count": 32
        }
      ]
    }
  ]
}