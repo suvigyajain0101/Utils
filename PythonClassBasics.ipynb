{
  "nbformat": 4,
  "nbformat_minor": 0,
  "metadata": {
    "kernelspec": {
      "display_name": "Python 3",
      "language": "python",
      "name": "python3"
    },
    "language_info": {
      "codemirror_mode": {
        "name": "ipython",
        "version": 3
      },
      "file_extension": ".py",
      "mimetype": "text/x-python",
      "name": "python",
      "nbconvert_exporter": "python",
      "pygments_lexer": "ipython3",
      "version": "3.8.5"
    },
    "colab": {
      "name": "PythonClassBasics.ipynb",
      "provenance": []
    }
  },
  "cells": [
    {
      "cell_type": "markdown",
      "metadata": {
        "id": "7xMlOs71KkVf"
      },
      "source": [
        "This notebook walks through sample python classes and various functionalities associated with classes and OOP in general"
      ]
    },
    {
      "cell_type": "markdown",
      "metadata": {
        "id": "Q8q_sTtrKkVh"
      },
      "source": [
        "### Create a basic class"
      ]
    },
    {
      "cell_type": "code",
      "metadata": {
        "id": "QIeP3kF7KkVi"
      },
      "source": [
        "class TestClass:\n",
        "    '''This is a docstring. I have created a new class'''\n",
        "    pass"
      ],
      "execution_count": null,
      "outputs": []
    },
    {
      "cell_type": "code",
      "metadata": {
        "id": "udIzHUpyKkVj",
        "outputId": "a000eb0a-98ab-40f4-fc43-bf7a08c9a778"
      },
      "source": [
        "# Assigning a doc string is very helpful for developers downstream and helps to understand class functionalities\n",
        "# Also, when we don't want the developer to deep-dive much into the source code but want to understand what exactly the class does, doc string can be very helpful.\n",
        "# This is a standard method associated with every class defined in Python\n",
        "TestClass.__doc__"
      ],
      "execution_count": null,
      "outputs": [
        {
          "output_type": "execute_result",
          "data": {
            "text/plain": [
              "'This is a docstring. I have created a new class'"
            ]
          },
          "metadata": {
            "tags": []
          },
          "execution_count": 2
        }
      ]
    },
    {
      "cell_type": "markdown",
      "metadata": {
        "id": "QhcX9s2DKkVl"
      },
      "source": [
        "#### Taking the class to a next level"
      ]
    },
    {
      "cell_type": "code",
      "metadata": {
        "id": "bm4ls04EKkVm",
        "outputId": "204d3933-f8f7-4baa-80d7-0bae2ef02317"
      },
      "source": [
        "class Person:\n",
        "    \"This is a person class\"\n",
        "    age = 10\n",
        "\n",
        "    def greet(self):\n",
        "        print('Hello')\n",
        "\n",
        "\n",
        "# Print class variables\n",
        "print(Person.age)\n",
        "\n",
        "# Print class methods\n",
        "print(Person.greet)\n",
        "\n",
        "# Print DocString\n",
        "print(Person.__doc__)\n",
        "\n",
        "# Create a new class object\n",
        "messi = Person()\n",
        "print(\"Object of class Person created\")\n",
        "\n",
        "# Check Messi's attributes\n",
        "print(messi.age)"
      ],
      "execution_count": null,
      "outputs": [
        {
          "output_type": "stream",
          "text": [
            "10\n",
            "<function Person.greet at 0x000001F1B2887EE0>\n",
            "This is a person class\n",
            "Object of class Person created\n",
            "10\n"
          ],
          "name": "stdout"
        }
      ]
    },
    {
      "cell_type": "markdown",
      "metadata": {
        "id": "_0cPlX5BKkVo"
      },
      "source": [
        "### Classes and constructor functions"
      ]
    },
    {
      "cell_type": "code",
      "metadata": {
        "id": "JbKPpar3KkVp"
      },
      "source": [
        "# Functions with dunder ('__') have special meaning. \n",
        "# One such special function is __init__ (reserved)\n",
        "# Any object instantiated from the class needs to possess all the required params in __init__ definition\n",
        "\n",
        "class ComplexNumber:\n",
        "    \"\"\"The following class to handle Complex numbers\"\"\"\n",
        "    def __init__(self, real, im):\n",
        "        self.real = real\n",
        "        self.im = im\n",
        "        \n",
        "    def print_complex_number(self):\n",
        "        return f\"The complex number is {self.real} + {self.im}j\"\n",
        "        \n",
        "    def real_part(self):\n",
        "        return self.real\n",
        "    \n",
        "    def complex_part(self):\n",
        "        return self.im"
      ],
      "execution_count": null,
      "outputs": []
    },
    {
      "cell_type": "code",
      "metadata": {
        "id": "xGska6--KkVq",
        "outputId": "f0819a4b-6c8b-4374-ecde-676a007012a1"
      },
      "source": [
        "# Now, we instantiate the class. \n",
        "# Note, we need to pass all the params required in __init__ definition\n",
        "c1 = ComplexNumber(2,3)\n",
        "\n",
        "print(c1.print_complex_number())"
      ],
      "execution_count": null,
      "outputs": [
        {
          "output_type": "stream",
          "text": [
            "The complex number is 2 + 3j\n"
          ],
          "name": "stdout"
        }
      ]
    },
    {
      "cell_type": "markdown",
      "metadata": {
        "id": "IDbqkpRZQMpR"
      },
      "source": [
        "### Calling Class methods\n",
        "\n",
        "We can call class methods both inside and outside the class defition."
      ]
    },
    {
      "cell_type": "code",
      "metadata": {
        "id": "S8Ryo5EfQZov",
        "outputId": "2855c375-afb4-4f82-e801-20a12dea8c09",
        "colab": {
          "base_uri": "https://localhost:8080/"
        }
      },
      "source": [
        "class Bag:\n",
        "  \"\"\"Demo class for calling function from inside and outside class definition\"\"\"\n",
        "  def __init__(self, x1, x2):\n",
        "    self.x1 = x1\n",
        "    self.x2 = x2\n",
        "\n",
        "  def add(self):\n",
        "    return self.x1 + self.x2\n",
        "  \n",
        "  def add_again(self):\n",
        "    return self.add() + self.add()\n",
        "\n",
        "# Note how we have called a function defined inside the class by using 'self.' , just like how we called class variable using 'self.' .... Python man!!\n",
        "\n",
        "ins1 = Bag(1,3)\n",
        "\n",
        "print(\"Addition of inputs : \", ins1.add())\n",
        "print(\"Double Addition of inputs : \", ins1.add_again())"
      ],
      "execution_count": 5,
      "outputs": [
        {
          "output_type": "stream",
          "text": [
            "Addition of inputs :  4\n",
            "Double Addition of inputs :  8\n"
          ],
          "name": "stdout"
        }
      ]
    },
    {
      "cell_type": "markdown",
      "metadata": {
        "id": "SW1X9VYlRySC"
      },
      "source": [
        "### Recollection\n",
        "\n",
        "Let's look over some topics that we have covered till now, like really basics"
      ]
    },
    {
      "cell_type": "markdown",
      "metadata": {
        "id": "yIEihg7yR5sR"
      },
      "source": [
        "#### Class Instances and Variables\n",
        "\n",
        "Refer here for the [doc](https://docs.python.org/3/tutorial/classes.html#class-and-instance-variables)"
      ]
    },
    {
      "cell_type": "code",
      "metadata": {
        "id": "UzfAbW-tR7G1"
      },
      "source": [
        "# Class Instances and Variables\n",
        "\n",
        "class Dogs:\n",
        "  \"\"\"A class for all the dogs\"\"\"\n",
        "  kind = 'Canine'\n",
        "\n",
        "  def __init__(self, name):\n",
        "    self.name = name\n",
        "\n",
        "d = Dogs('Pup')\n",
        "e = Dogs('Tuffy')\n",
        "\n",
        "# So, Pup and Tuffy are 2 objects of class Dogs\n",
        "\n",
        "# Class variable 'kind' is shared by all the class instances\n",
        "print(\"Class Variables are shared by all the class instances\")\n",
        "print(f\"Kind for Object 'd' of the class Dogs is : \", d.kind)\n",
        "print(f\"Kind for Object 'e' of the class Dogs is : \", e.kind)\n",
        "print('\\n')\n",
        "# However, instance variables are unique to each class instance\n",
        "print(\"Instance Variables are unique for all the class instances\")\n",
        "print(f\"Instance Variable name for Object 'd' of the class Dogs is : \", d.name)\n",
        "print(f\"Instance Variable name for Object 'e' of the class Dogs is : \", e.name)\n",
        "print('\\n')"
      ],
      "execution_count": null,
      "outputs": []
    },
    {
      "cell_type": "markdown",
      "metadata": {
        "id": "9mLPINAcKkVr"
      },
      "source": [
        "### Inheritance\n",
        "\n",
        "Let's say we have a blueprint, classes can be thought of as blueprints. Let's say we have Organisms class. Humans, Lion, Tiger etc. may all be inherited objects of such a class. All of these are organisms, will have all the properties of organisms, but the other way around is not true. Humans will not have all the properties of Tiger, but both will have all the properties of Organisms, their 'Parent Class'\n",
        "\n",
        "Let's understand this via Polygon example. We will create a class of all the polygons and a triangle class will be it's 'Child Class'"
      ]
    },
    {
      "cell_type": "code",
      "metadata": {
        "id": "MLhsdrOOKkVs"
      },
      "source": [
        "class Polygon:\n",
        "    \"\"\"Class to define number and magnitude of sides of any polygon\"\"\"\n",
        "    def __init__(self, no_of_sides):\n",
        "        self.n = no_of_sides\n",
        "        sides = [0 for i in range(no_of_sides)]\n",
        "        \n",
        "    def input_sides(self):\n",
        "        self.sides = [float(input(\"Enter side \"+str(i+1)+\" : \")) for i in range(self.n)]\n",
        "\n",
        "    def dispSides(self):\n",
        "        for i in range(self.n):\n",
        "            print(\"Side\",i+1,\"is\",self.sides[i])"
      ],
      "execution_count": null,
      "outputs": []
    },
    {
      "cell_type": "code",
      "metadata": {
        "id": "83HFS9g1KkVs"
      },
      "source": [
        "# Initialize a class object\n",
        "pentagon = Polygon(5)"
      ],
      "execution_count": null,
      "outputs": []
    },
    {
      "cell_type": "code",
      "metadata": {
        "id": "A428_J_-KkVt",
        "outputId": "e2b57d4e-f5c8-4154-cfbd-e0aa36876f5f"
      },
      "source": [
        "# Input all the sides of the polygon\n",
        "pentagon.input_sides()"
      ],
      "execution_count": null,
      "outputs": [
        {
          "output_type": "stream",
          "text": [
            "Enter side 1 : 1\n",
            "Enter side 2 : 2\n",
            "Enter side 3 : 3\n",
            "Enter side 4 : 4\n",
            "Enter side 5 : 5\n"
          ],
          "name": "stdout"
        }
      ]
    },
    {
      "cell_type": "code",
      "metadata": {
        "id": "4etp14eQKkVu",
        "outputId": "6d6dab44-049c-44bc-856e-5a6965b6df35"
      },
      "source": [
        "# Display all the sided of the polygon\n",
        "pentagon.dispSides()"
      ],
      "execution_count": null,
      "outputs": [
        {
          "output_type": "stream",
          "text": [
            "Side 1 is 1.0\n",
            "Side 2 is 2.0\n",
            "Side 3 is 3.0\n",
            "Side 4 is 4.0\n",
            "Side 5 is 5.0\n"
          ],
          "name": "stdout"
        }
      ]
    },
    {
      "cell_type": "code",
      "metadata": {
        "id": "bSU3l4LxKkVv"
      },
      "source": [
        "# We will create an inherited object of the class polygon\n",
        "# Idea is all triangles are polygon, but not vice versa\n",
        "\n",
        "class Triangle(Polygon):\n",
        "    def __init__(self):\n",
        "        Polygon.__init__(self, 3)\n",
        "        \n",
        "    def isValid(self):\n",
        "        a, b, c = self.sides\n",
        "        if (a + b <= c) or (a + c <= b) or (b + c <= a):\n",
        "            print(\"Given values don't form a triangle\")\n",
        "        else:\n",
        "            print('Given values form a valid triangle')"
      ],
      "execution_count": null,
      "outputs": []
    },
    {
      "cell_type": "code",
      "metadata": {
        "id": "0LxKNpFjKkVv",
        "outputId": "7e1a9b16-c707-4a8f-ee97-00f981d44132"
      },
      "source": [
        "# Initiate Triangle Object\n",
        "new_triangle = Triangle()\n",
        "\n",
        "# Input sides\n",
        "new_triangle.input_sides()\n",
        "\n",
        "# Display sides\n",
        "new_triangle.dispSides()\n",
        "\n",
        "# Is this a valid triangle\n",
        "new_triangle.isValid()"
      ],
      "execution_count": null,
      "outputs": [
        {
          "output_type": "stream",
          "text": [
            "Enter side 1 : 1\n",
            "Enter side 2 : 2\n",
            "Enter side 3 : 3\n",
            "Side 1 is 1.0\n",
            "Side 2 is 2.0\n",
            "Side 3 is 3.0\n",
            "Given values don't form a triangle\n"
          ],
          "name": "stdout"
        }
      ]
    },
    {
      "cell_type": "code",
      "metadata": {
        "id": "1egjUh9zKkVw"
      },
      "source": [
        "# IsValid property is only valid for triangles and not for all the polygons, \n",
        "# but all the properties of a polygon are valid for a triangle"
      ],
      "execution_count": null,
      "outputs": []
    },
    {
      "cell_type": "markdown",
      "metadata": {
        "id": "OoPRMY-6R4i5"
      },
      "source": [
        "#### More Inheritance"
      ]
    },
    {
      "cell_type": "code",
      "metadata": {
        "id": "MKCsYy0iSGkY"
      },
      "source": [
        ""
      ],
      "execution_count": null,
      "outputs": []
    }
  ]
}