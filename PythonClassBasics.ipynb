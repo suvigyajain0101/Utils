{
 "cells": [
  {
   "cell_type": "markdown",
   "metadata": {},
   "source": [
    "# This notebook walks through sample python classes and various functionalities associated with classes and OOP in general"
   ]
  },
  {
   "cell_type": "markdown",
   "metadata": {},
   "source": [
    "Create a basic class"
   ]
  },
  {
   "cell_type": "code",
   "execution_count": 1,
   "metadata": {},
   "outputs": [],
   "source": [
    "class TestClass:\n",
    "    '''This is a docstring. I have created a new class'''\n",
    "    pass"
   ]
  },
  {
   "cell_type": "code",
   "execution_count": 2,
   "metadata": {},
   "outputs": [
    {
     "data": {
      "text/plain": [
       "'This is a docstring. I have created a new class'"
      ]
     },
     "execution_count": 2,
     "metadata": {},
     "output_type": "execute_result"
    }
   ],
   "source": [
    "# Assigning a doc string is very helpful for developers downstream and helps to understand class functionalities\n",
    "# Also, when we don't want the developer to deep-dive much into the source code but want to understand what exactly the class does, doc string can be very helpful.\n",
    "# This is a standard method associated with every class defined in Python\n",
    "TestClass.__doc__"
   ]
  },
  {
   "cell_type": "markdown",
   "metadata": {},
   "source": [
    "Taking the class to a next level"
   ]
  },
  {
   "cell_type": "code",
   "execution_count": 3,
   "metadata": {},
   "outputs": [
    {
     "name": "stdout",
     "output_type": "stream",
     "text": [
      "10\n",
      "<function Person.greet at 0x000001F1B2887EE0>\n",
      "This is a person class\n",
      "Object of class Person created\n",
      "10\n"
     ]
    }
   ],
   "source": [
    "class Person:\n",
    "    \"This is a person class\"\n",
    "    age = 10\n",
    "\n",
    "    def greet(self):\n",
    "        print('Hello')\n",
    "\n",
    "\n",
    "# Print class variables\n",
    "print(Person.age)\n",
    "\n",
    "# Print class methods\n",
    "print(Person.greet)\n",
    "\n",
    "# Print DocString\n",
    "print(Person.__doc__)\n",
    "\n",
    "# Create a new class object\n",
    "messi = Person()\n",
    "print(\"Object of class Person created\")\n",
    "\n",
    "# Check Messi's attributes\n",
    "print(messi.age)"
   ]
  },
  {
   "cell_type": "markdown",
   "metadata": {},
   "source": [
    "Classes and constructor functions"
   ]
  },
  {
   "cell_type": "code",
   "execution_count": 4,
   "metadata": {},
   "outputs": [],
   "source": [
    "# Functions with dunder ('__') have special meaning. \n",
    "# One such special function is __init__ (reserved)\n",
    "# Any object instantiated from the class needs to possess all the required params in __init__ definition\n",
    "\n",
    "class ComplexNumber:\n",
    "    \"\"\"The following class to handle Complex numbers\"\"\"\n",
    "    def __init__(self, real, im):\n",
    "        self.real = real\n",
    "        self.im = im\n",
    "        \n",
    "    def print_complex_number(self):\n",
    "        return f\"The complex number is {self.real} + {self.im}j\"\n",
    "        \n",
    "    def real_part(self):\n",
    "        return self.real\n",
    "    \n",
    "    def complex_part(self):\n",
    "        return self.im"
   ]
  },
  {
   "cell_type": "code",
   "execution_count": 5,
   "metadata": {},
   "outputs": [
    {
     "name": "stdout",
     "output_type": "stream",
     "text": [
      "The complex number is 2 + 3j\n"
     ]
    }
   ],
   "source": [
    "# Now, we instantiate the class. \n",
    "# Note, we need to pass all the params required in __init__ definition\n",
    "c1 = ComplexNumber(2,3)\n",
    "\n",
    "print(c1.print_complex_number())"
   ]
  },
  {
   "cell_type": "markdown",
   "metadata": {},
   "source": [
    "### Next, we look at an important concept of OOP - Inheritance. \n",
    "\n",
    "Let's say we have a blueprint, classes can be thought of as blueprints. Let's say we have Organisms class. Humans, Lion, Tiger etc. may all be inherited objects of such a class. All of these are organisms, will have all the properties of organisms, but the other way around is not true. Humans will not have all the properties of Tiger, but both will have all the properties of Organisms, their 'Parent Class'\n",
    "\n",
    "Let's understand this via Polygon example. We will create a class of all the polygons and a triangle class will be it's 'Child Class'"
   ]
  },
  {
   "cell_type": "code",
   "execution_count": 6,
   "metadata": {},
   "outputs": [],
   "source": [
    "class Polygon:\n",
    "    \"\"\"Class to define number and magnitude of sides of any polygon\"\"\"\n",
    "    def __init__(self, no_of_sides):\n",
    "        self.n = no_of_sides\n",
    "        sides = [0 for i in range(no_of_sides)]\n",
    "        \n",
    "    def input_sides(self):\n",
    "        self.sides = [float(input(\"Enter side \"+str(i+1)+\" : \")) for i in range(self.n)]\n",
    "\n",
    "    def dispSides(self):\n",
    "        for i in range(self.n):\n",
    "            print(\"Side\",i+1,\"is\",self.sides[i])"
   ]
  },
  {
   "cell_type": "code",
   "execution_count": 7,
   "metadata": {},
   "outputs": [],
   "source": [
    "# Initialize a class object\n",
    "pentagon = Polygon(5)"
   ]
  },
  {
   "cell_type": "code",
   "execution_count": 8,
   "metadata": {},
   "outputs": [
    {
     "name": "stdout",
     "output_type": "stream",
     "text": [
      "Enter side 1 : 1\n",
      "Enter side 2 : 2\n",
      "Enter side 3 : 3\n",
      "Enter side 4 : 4\n",
      "Enter side 5 : 5\n"
     ]
    }
   ],
   "source": [
    "# Input all the sides of the polygon\n",
    "pentagon.input_sides()"
   ]
  },
  {
   "cell_type": "code",
   "execution_count": 9,
   "metadata": {},
   "outputs": [
    {
     "name": "stdout",
     "output_type": "stream",
     "text": [
      "Side 1 is 1.0\n",
      "Side 2 is 2.0\n",
      "Side 3 is 3.0\n",
      "Side 4 is 4.0\n",
      "Side 5 is 5.0\n"
     ]
    }
   ],
   "source": [
    "# Display all the sided of the polygon\n",
    "pentagon.dispSides()"
   ]
  },
  {
   "cell_type": "code",
   "execution_count": 10,
   "metadata": {},
   "outputs": [],
   "source": [
    "# We will create an inherited object of the class polygon\n",
    "# Idea is all triangles are polygon, but not vice versa\n",
    "\n",
    "class Triangle(Polygon):\n",
    "    def __init__(self):\n",
    "        Polygon.__init__(self, 3)\n",
    "        \n",
    "    def isValid(self):\n",
    "        a, b, c = self.sides\n",
    "        if (a + b <= c) or (a + c <= b) or (b + c <= a):\n",
    "            print(\"Given values don't form a triangle\")\n",
    "        else:\n",
    "            print('Given values form a valid triangle')"
   ]
  },
  {
   "cell_type": "code",
   "execution_count": 11,
   "metadata": {},
   "outputs": [
    {
     "name": "stdout",
     "output_type": "stream",
     "text": [
      "Enter side 1 : 1\n",
      "Enter side 2 : 2\n",
      "Enter side 3 : 3\n",
      "Side 1 is 1.0\n",
      "Side 2 is 2.0\n",
      "Side 3 is 3.0\n",
      "Given values don't form a triangle\n"
     ]
    }
   ],
   "source": [
    "# Initiate Triangle Object\n",
    "new_triangle = Triangle()\n",
    "\n",
    "# Input sides\n",
    "new_triangle.input_sides()\n",
    "\n",
    "# Display sides\n",
    "new_triangle.dispSides()\n",
    "\n",
    "# Is this a valid triangle\n",
    "new_triangle.isValid()"
   ]
  },
  {
   "cell_type": "code",
   "execution_count": 12,
   "metadata": {},
   "outputs": [],
   "source": [
    "# IsValid property is only valid for triangles and not for all the polygons, \n",
    "# but all the properties of a polygon are valid for a triangle"
   ]
  }
 ],
 "metadata": {
  "kernelspec": {
   "display_name": "Python 3",
   "language": "python",
   "name": "python3"
  },
  "language_info": {
   "codemirror_mode": {
    "name": "ipython",
    "version": 3
   },
   "file_extension": ".py",
   "mimetype": "text/x-python",
   "name": "python",
   "nbconvert_exporter": "python",
   "pygments_lexer": "ipython3",
   "version": "3.8.5"
  }
 },
 "nbformat": 4,
 "nbformat_minor": 4
}
