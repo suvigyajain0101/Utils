{
  "nbformat": 4,
  "nbformat_minor": 0,
  "metadata": {
    "colab": {
      "name": "install_package_from_code.ipynb",
      "provenance": [],
      "authorship_tag": "ABX9TyPG683thVI/PC3PwxPJTxsc"
    },
    "kernelspec": {
      "name": "python3",
      "display_name": "Python 3"
    },
    "language_info": {
      "name": "python"
    }
  },
  "cells": [
    {
      "cell_type": "markdown",
      "source": [
        "The code shows how to install a python package from .py files. This might be needed to run installers on the fly, when the terminal might not be an option"
      ],
      "metadata": {
        "id": "xfwuYCuOMCFk"
      }
    },
    {
      "cell_type": "code",
      "source": [
        "import subprocess\n",
        "import sys\n",
        "\n",
        "\n",
        "def install(package):\n",
        "    subprocess.check_call([sys.executable, \"-m\", \"pip\", \"install\", package])\n",
        "    print('Package installed successfully : ', package)\n",
        "\n",
        "\n",
        "def uninstall(package):\n",
        "    subprocess.check_call([sys.executable, \"-m\", \"pip\", \"uninstall\", package])\n",
        "    print('Package uninstalled successfully : ', package)\n",
        "\n",
        "\n",
        "install('seaborn')\n",
        "# uninstall('seaborn') -- Won't work in Colab"
      ],
      "metadata": {
        "id": "wV5-SdM6MSEE"
      },
      "execution_count": null,
      "outputs": []
    },
    {
      "cell_type": "markdown",
      "source": [
        "In case we need to install a specific version, it can be passed as a part of the string"
      ],
      "metadata": {
        "id": "E7Oe45OSMy8h"
      }
    },
    {
      "cell_type": "code",
      "source": [
        "install('seaborn == 0.10.0')"
      ],
      "metadata": {
        "id": "4L2_MON5M5Nq"
      },
      "execution_count": null,
      "outputs": []
    }
  ]
}