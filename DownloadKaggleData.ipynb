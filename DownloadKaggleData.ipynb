{
  "nbformat": 4,
  "nbformat_minor": 0,
  "metadata": {
    "colab": {
      "name": "DownloadKaggleData.ipynb",
      "provenance": [],
      "authorship_tag": "ABX9TyMP7tZvFbO6d8u1AL51ch3h"
    },
    "kernelspec": {
      "name": "python3",
      "display_name": "Python 3"
    },
    "language_info": {
      "name": "python"
    }
  },
  "cells": [
    {
      "cell_type": "markdown",
      "source": [
        "# Download Kaggle Data in Colab Environment\n",
        "\n",
        "The Notebook shows how to download Kaggle Competitions' data in Colab env"
      ],
      "metadata": {
        "id": "ep2C7TP4WR7W"
      }
    },
    {
      "cell_type": "code",
      "source": [
        "# Install Kaggle"
      ],
      "metadata": {
        "id": "HhUfb6rQWe8m"
      },
      "execution_count": null,
      "outputs": []
    },
    {
      "cell_type": "code",
      "source": [
        "!pip install --upgrade --force-reinstall --no-deps kaggle"
      ],
      "metadata": {
        "id": "mYsLWflBWjQr",
        "colab": {
          "base_uri": "https://localhost:8080/"
        },
        "outputId": "5b07c5ef-f4f5-4c71-cc22-8807a7a0768f"
      },
      "execution_count": null,
      "outputs": [
        {
          "output_type": "stream",
          "name": "stdout",
          "text": [
            "Collecting kaggle\n",
            "  Downloading kaggle-1.5.12.tar.gz (58 kB)\n",
            "\u001b[?25l\r\u001b[K     |█████▋                          | 10 kB 19.3 MB/s eta 0:00:01\r\u001b[K     |███████████▏                    | 20 kB 7.8 MB/s eta 0:00:01\r\u001b[K     |████████████████▊               | 30 kB 6.9 MB/s eta 0:00:01\r\u001b[K     |██████████████████████▎         | 40 kB 6.4 MB/s eta 0:00:01\r\u001b[K     |███████████████████████████▉    | 51 kB 4.8 MB/s eta 0:00:01\r\u001b[K     |████████████████████████████████| 58 kB 2.2 MB/s \n",
            "\u001b[?25hBuilding wheels for collected packages: kaggle\n",
            "  Building wheel for kaggle (setup.py) ... \u001b[?25l\u001b[?25hdone\n",
            "  Created wheel for kaggle: filename=kaggle-1.5.12-py3-none-any.whl size=73051 sha256=482d37386efcfd78cefb05fce47f5677698f0679df3f10cb2f42c9c720bb0c9f\n",
            "  Stored in directory: /root/.cache/pip/wheels/62/d6/58/5853130f941e75b2177d281eb7e44b4a98ed46dd155f556dc5\n",
            "Successfully built kaggle\n",
            "Installing collected packages: kaggle\n",
            "  Attempting uninstall: kaggle\n",
            "    Found existing installation: kaggle 1.5.12\n",
            "    Uninstalling kaggle-1.5.12:\n",
            "      Successfully uninstalled kaggle-1.5.12\n",
            "Successfully installed kaggle-1.5.12\n"
          ]
        }
      ]
    },
    {
      "cell_type": "markdown",
      "source": [
        "Next, please follow the steps below to download and use kaggle data within Google Colab:\n",
        "\n",
        "1. Go to your account, Scroll to API section and Click Expire API Token to remove previous tokens\n",
        "\n",
        "2. Click on Create New API Token - It will download kaggle.json file on your machine."
      ],
      "metadata": {
        "id": "iBHtGBsQWjqp"
      }
    },
    {
      "cell_type": "code",
      "source": [
        "# Upload Kaggle.json to Colab\n",
        "# Added context lib to hide Kaggle File Upload's Username and Key print\n",
        "# Notice the use of context management to control when to suppress output. Noice!!"
      ],
      "metadata": {
        "id": "lrRaDWsaW0vP"
      },
      "execution_count": null,
      "outputs": []
    },
    {
      "cell_type": "code",
      "source": [
        "import contextlib\n",
        "from google.colab import files\n",
        "import io\n",
        "\n",
        "with contextlib.redirect_stdout(io.StringIO()):\n",
        "    files.upload()"
      ],
      "metadata": {
        "id": "etOXrHLPWx-r"
      },
      "execution_count": null,
      "outputs": []
    },
    {
      "cell_type": "code",
      "source": [
        "# Make Kaggle Folder to store the data"
      ],
      "metadata": {
        "id": "83nGmvEyW6hj"
      },
      "execution_count": null,
      "outputs": []
    },
    {
      "cell_type": "code",
      "source": [
        "! mkdir ~/.kaggle"
      ],
      "metadata": {
        "id": "iFYHAGZKW4EI"
      },
      "execution_count": null,
      "outputs": []
    },
    {
      "cell_type": "code",
      "source": [
        "# Copy JSON file to the directory"
      ],
      "metadata": {
        "id": "4oIK44Z1XFE9"
      },
      "execution_count": null,
      "outputs": []
    },
    {
      "cell_type": "code",
      "source": [
        "! cp kaggle.json ~/.kaggle/"
      ],
      "metadata": {
        "id": "oTZFbagQW9eO"
      },
      "execution_count": null,
      "outputs": []
    },
    {
      "cell_type": "code",
      "source": [
        "# Update the permissions"
      ],
      "metadata": {
        "id": "xbshkdtUXK5C"
      },
      "execution_count": null,
      "outputs": []
    },
    {
      "cell_type": "code",
      "source": [
        "! chmod 600 ~/.kaggle/kaggle.json"
      ],
      "metadata": {
        "id": "B7V5CDE_XIqE"
      },
      "execution_count": null,
      "outputs": []
    },
    {
      "cell_type": "markdown",
      "source": [
        "DONE!"
      ],
      "metadata": {
        "id": "9F-vMcENXNYn"
      }
    },
    {
      "cell_type": "code",
      "source": [
        "# An example - Download Open Datasets"
      ],
      "metadata": {
        "id": "43IWCg_sXPTE"
      },
      "execution_count": null,
      "outputs": []
    },
    {
      "cell_type": "code",
      "source": [
        "! kaggle datasets download -d datafiniti/consumer-reviews-of-amazon-products"
      ],
      "metadata": {
        "id": "Vy31XBQtYgTW",
        "colab": {
          "base_uri": "https://localhost:8080/"
        },
        "outputId": "9a7c09f6-9470-496d-b573-27bc639e450a"
      },
      "execution_count": null,
      "outputs": [
        {
          "output_type": "stream",
          "name": "stdout",
          "text": [
            "Downloading consumer-reviews-of-amazon-products.zip to /content\n",
            " 55% 9.00M/16.3M [00:00<00:00, 46.1MB/s]\n",
            "100% 16.3M/16.3M [00:00<00:00, 73.7MB/s]\n"
          ]
        }
      ]
    },
    {
      "cell_type": "code",
      "source": [
        "# An example - Remember, you need to be registered in the competition to use the dataset!"
      ],
      "metadata": {
        "id": "zEcgI5mD8rGw"
      },
      "execution_count": null,
      "outputs": []
    },
    {
      "cell_type": "code",
      "source": [
        "! kaggle competitions download -c 'titanic'"
      ],
      "metadata": {
        "id": "5plfMTtv8lZ6"
      },
      "execution_count": null,
      "outputs": []
    },
    {
      "cell_type": "code",
      "source": [
        "# You can also list all the available dataset"
      ],
      "metadata": {
        "id": "AAjtHcq9Yllo"
      },
      "execution_count": null,
      "outputs": []
    },
    {
      "cell_type": "code",
      "source": [
        "! kaggle datasets list"
      ],
      "metadata": {
        "id": "8v7lVX8jXR3i",
        "colab": {
          "base_uri": "https://localhost:8080/"
        },
        "outputId": "f385cc6f-4221-41c0-e720-29175cbfb233"
      },
      "execution_count": null,
      "outputs": [
        {
          "output_type": "stream",
          "name": "stdout",
          "text": [
            "ref                                                                            title                                             size  lastUpdated          downloadCount  voteCount  usabilityRating  \n",
            "-----------------------------------------------------------------------------  -----------------------------------------------  -----  -------------------  -------------  ---------  ---------------  \n",
            "datasets/muratkokludataset/date-fruit-datasets                                 Date Fruit Datasets                              408KB  2022-04-03 09:25:39           3979        676  0.9375           \n",
            "datasets/muratkokludataset/acoustic-extinguisher-fire-dataset                  Acoustic Extinguisher Fire Dataset               621KB  2022-04-02 22:59:36            592        601  0.9375           \n",
            "datasets/muratkokludataset/pistachio-dataset                                   Pistachio Dataset                                  2MB  2022-04-03 08:38:21            385        529  0.9375           \n",
            "datasets/muratkokludataset/raisin-dataset                                      Raisin Dataset                                   112KB  2022-04-03 00:23:16            273        504  0.9375           \n",
            "datasets/samuelcortinhas/credit-card-approval-clean-data                       Credit Card Approvals (Clean Data)                19KB  2022-04-25 15:52:35            899         28  1.0              \n",
            "datasets/mdmahmudulhasansuzan/students-adaptability-level-in-online-education  Students Adaptability Level in Online Education    6KB  2022-04-16 04:46:28           2375         65  1.0              \n",
            "datasets/muratkokludataset/pistachio-image-dataset                             Pistachio Image Dataset                           27MB  2022-03-28 18:01:27            215        558  0.9375           \n",
            "datasets/muratkokludataset/grapevine-leaves-image-dataset                      Grapevine Leaves Image Dataset                   109MB  2022-04-03 09:00:54             76        541  0.875            \n",
            "datasets/muratkokludataset/dry-bean-dataset                                    Dry Bean Dataset                                   5MB  2022-04-02 23:19:30            213        511  0.875            \n",
            "datasets/muratkokludataset/pumpkin-seeds-dataset                               Pumpkin Seeds Dataset                            393KB  2022-03-28 18:28:16            284        507  0.9375           \n",
            "datasets/muratkokludataset/durum-wheat-dataset                                 Durum Wheat Dataset                              983MB  2022-04-03 00:02:29             54        515  0.875            \n",
            "datasets/muratkokludataset/rice-msc-dataset                                    Rice MSC Dataset                                 102MB  2022-04-03 01:33:52            123        501  0.875            \n",
            "datasets/muratkokludataset/rice-dataset-commeo-and-osmancik                    Rice Dataset Commeo and Osmancik                 524KB  2022-04-03 00:40:03             67        495  0.875            \n",
            "datasets/muhmores/spotify-top-100-songs-of-20152019                            Spotify Top 100 Songs of 2010-2019               139KB  2022-04-09 06:35:36           3070         73  0.88235295       \n",
            "datasets/ramjasmaurya/aviation-accidents-history1919-april-2022                Air Disasters(1919- April 2022)                  667KB  2022-04-25 18:10:20            509         29  1.0              \n",
            "datasets/rinichristy/covid19-coronavirus-pandemic                              COVID-19 Coronavirus Pandemic                      9KB  2022-04-05 08:43:16           1761         41  1.0              \n",
            "datasets/aslanahmedov/walmart-sales-forecast                                   Walmart Sales Forecast                             3MB  2022-04-21 05:28:20           1193         38  1.0              \n",
            "datasets/brandonconrady/covid19-vaccine-articles                               COVID-19 Vaccine Articles                         54KB  2022-04-28 05:22:45            205         24  1.0              \n",
            "datasets/rupakroy/online-payments-fraud-detection-dataset                      Online Payments Fraud Detection Dataset          178MB  2022-04-17 15:34:44            895         23  0.9705882        \n",
            "datasets/alexandrparkhomenko/top-apps-in-google-play                           Top Apps in Google Play                            3KB  2022-04-29 05:16:34            406         27  1.0              \n"
          ]
        }
      ]
    }
  ]
}