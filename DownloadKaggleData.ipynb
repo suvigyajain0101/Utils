{
  "nbformat": 4,
  "nbformat_minor": 0,
  "metadata": {
    "colab": {
      "name": "DownloadKaggleData.ipynb",
      "provenance": [],
      "authorship_tag": "ABX9TyOeTMNlTVYFSKtHblUkd4nz"
    },
    "kernelspec": {
      "name": "python3",
      "display_name": "Python 3"
    },
    "language_info": {
      "name": "python"
    }
  },
  "cells": [
    {
      "cell_type": "markdown",
      "source": [
        "# Download Kaggle Data in Colab Environment\n",
        "\n",
        "The Notebook shows how to download Kaggle Competitions' data in Colab env"
      ],
      "metadata": {
        "id": "ep2C7TP4WR7W"
      }
    },
    {
      "cell_type": "code",
      "source": [
        "# Install Kaggle"
      ],
      "metadata": {
        "id": "HhUfb6rQWe8m"
      },
      "execution_count": 1,
      "outputs": []
    },
    {
      "cell_type": "code",
      "source": [
        "!pip install --upgrade --force-reinstall --no-deps kaggle"
      ],
      "metadata": {
        "id": "mYsLWflBWjQr"
      },
      "execution_count": null,
      "outputs": []
    },
    {
      "cell_type": "markdown",
      "source": [
        "Next, please follow the steps below to download and use kaggle data within Google Colab:\n",
        "\n",
        "1. Go to your account, Scroll to API section and Click Expire API Token to remove previous tokens\n",
        "\n",
        "2. Click on Create New API Token - It will download kaggle.json file on your machine."
      ],
      "metadata": {
        "id": "iBHtGBsQWjqp"
      }
    },
    {
      "cell_type": "code",
      "source": [
        "# Upload Kaggle.json to Colab"
      ],
      "metadata": {
        "id": "lrRaDWsaW0vP"
      },
      "execution_count": null,
      "outputs": []
    },
    {
      "cell_type": "code",
      "source": [
        "from google.colab import files\n",
        "files.upload()"
      ],
      "metadata": {
        "id": "etOXrHLPWx-r"
      },
      "execution_count": null,
      "outputs": []
    },
    {
      "cell_type": "code",
      "source": [
        "# Make Kaggle Folder to store the data"
      ],
      "metadata": {
        "id": "83nGmvEyW6hj"
      },
      "execution_count": null,
      "outputs": []
    },
    {
      "cell_type": "code",
      "source": [
        "! mkdir ~/.kaggle"
      ],
      "metadata": {
        "id": "iFYHAGZKW4EI"
      },
      "execution_count": null,
      "outputs": []
    },
    {
      "cell_type": "code",
      "source": [
        "# Copy JSON file to the directory"
      ],
      "metadata": {
        "id": "4oIK44Z1XFE9"
      },
      "execution_count": null,
      "outputs": []
    },
    {
      "cell_type": "code",
      "source": [
        "! cp kaggle.json ~/.kaggle/"
      ],
      "metadata": {
        "id": "oTZFbagQW9eO"
      },
      "execution_count": null,
      "outputs": []
    },
    {
      "cell_type": "code",
      "source": [
        "# Update the permissions"
      ],
      "metadata": {
        "id": "xbshkdtUXK5C"
      },
      "execution_count": null,
      "outputs": []
    },
    {
      "cell_type": "code",
      "source": [
        "! chmod 600 ~/.kaggle/kaggle.json"
      ],
      "metadata": {
        "id": "B7V5CDE_XIqE"
      },
      "execution_count": null,
      "outputs": []
    },
    {
      "cell_type": "markdown",
      "source": [
        "DONE!"
      ],
      "metadata": {
        "id": "9F-vMcENXNYn"
      }
    },
    {
      "cell_type": "code",
      "source": [
        "# An example - Remember, you need to be registered in the competition to use the dataset!"
      ],
      "metadata": {
        "id": "43IWCg_sXPTE"
      },
      "execution_count": 2,
      "outputs": []
    },
    {
      "cell_type": "code",
      "source": [
        "! kaggle competitions download -c 'titanic'"
      ],
      "metadata": {
        "id": "Vy31XBQtYgTW"
      },
      "execution_count": null,
      "outputs": []
    },
    {
      "cell_type": "code",
      "source": [
        "# You can also list all the available dataset"
      ],
      "metadata": {
        "id": "AAjtHcq9Yllo"
      },
      "execution_count": null,
      "outputs": []
    },
    {
      "cell_type": "code",
      "source": [
        "! kaggle datasets list"
      ],
      "metadata": {
        "id": "8v7lVX8jXR3i"
      },
      "execution_count": null,
      "outputs": []
    }
  ]
}