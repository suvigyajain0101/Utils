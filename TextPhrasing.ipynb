{
  "nbformat": 4,
  "nbformat_minor": 0,
  "metadata": {
    "colab": {
      "name": "TextPhrasing.ipynb",
      "provenance": [],
      "authorship_tag": "ABX9TyPr4wDBUtiN6bWu/ZvAaDoA"
    },
    "kernelspec": {
      "name": "python3",
      "display_name": "Python 3"
    },
    "language_info": {
      "name": "python"
    }
  },
  "cells": [
    {
      "cell_type": "code",
      "execution_count": null,
      "metadata": {
        "id": "cqQ-vR_lvypC"
      },
      "outputs": [],
      "source": [
        "! pip install pytextrank"
      ]
    },
    {
      "cell_type": "code",
      "source": [
        "!python -m spacy download en_core_web_sm"
      ],
      "metadata": {
        "id": "TV1G5fP6wMSN"
      },
      "execution_count": null,
      "outputs": []
    },
    {
      "cell_type": "code",
      "source": [
        "import spacy\n",
        "import pytextrank\n",
        "\n",
        "# example text\n",
        "text = '''Compatibility of systems of linear constraints over the set of natural numbers. \n",
        "          Criteria of compatibility of a system of linear Diophantine equations, strict inequations, and nonstrict inequations are considered.\n",
        "           Upper bounds for components of a minimal set of solutions and algorithms of construction of minimal generating sets of solutions \n",
        "           for all types of systems are given. These criteria and the corresponding algorithms for constructing a minimal supporting \n",
        "           set of solutions can be used in solving all the considered types systems and systems of mixed types.'''\n",
        "\n",
        "# load a spaCy model, depending on language, scale, etc.\n",
        "nlp = spacy.load(\"en_core_web_sm\")\n",
        "\n",
        "# add PyTextRank to the spaCy pipeline\n",
        "nlp.add_pipe(\"textrank\")\n",
        "doc = nlp(text)\n",
        "\n",
        "# examine the top-ranked phrases in the document\n",
        "for phrase in doc._.phrases:\n",
        "    print(phrase.text)\n",
        "    print(phrase.rank, phrase.count)\n",
        "    print(phrase.chunks)"
      ],
      "metadata": {
        "colab": {
          "base_uri": "https://localhost:8080/"
        },
        "id": "eFpW_F5Cv0b2",
        "outputId": "354b6566-671c-4937-a675-bb8f912e1e6f"
      },
      "execution_count": 3,
      "outputs": [
        {
          "output_type": "stream",
          "name": "stdout",
          "text": [
            "mixed types\n",
            "0.18224422086397363 1\n",
            "[mixed types]\n",
            "systems\n",
            "0.177894013810666 3\n",
            "[systems, systems, systems]\n",
            "minimal generating sets\n",
            "0.15012796482367466 1\n",
            "[minimal generating sets]\n",
            "nonstrict inequations\n",
            "0.14619431119413756 1\n",
            "[nonstrict inequations]\n",
            "strict inequations\n",
            "0.13846949336886627 1\n",
            "[strict inequations]\n",
            "linear Diophantine equations\n",
            "0.11980429601355375 1\n",
            "[linear Diophantine equations]\n",
            "natural numbers\n",
            "0.11382139867518232 1\n",
            "[natural numbers]\n",
            "solutions\n",
            "0.10728967890810522 3\n",
            "[solutions, solutions, solutions]\n",
            "linear constraints\n",
            "0.10596399779473555 1\n",
            "[linear constraints]\n",
            "all the considered types systems\n",
            "0.10307674738889895 1\n",
            "[all the considered types systems]\n",
            "a system\n",
            "0.0821657254086488 1\n",
            "[a system]\n",
            "a minimal set\n",
            "0.07936702627887375 1\n",
            "[a minimal set]\n",
            "algorithms\n",
            "0.07767154470857095 1\n",
            "[algorithms]\n",
            "all types\n",
            "0.07537595845740168 1\n",
            "[all types]\n",
            "construction\n",
            "0.0698386527264134 1\n",
            "[construction]\n",
            "a minimal supporting \n",
            "           set\n",
            "0.06515343963918843 1\n",
            "[a minimal supporting \n",
            "           set]\n",
            "the set\n",
            "0.05788665445044401 1\n",
            "[the set]\n",
            "components\n",
            "0.05325049325497536 1\n",
            "[components]\n",
            "Compatibility\n",
            "0.04700606024274989 1\n",
            "[Compatibility]\n",
            "compatibility\n",
            "0.04700606024274989 1\n",
            "[compatibility]\n",
            "the corresponding algorithms\n",
            "0.0453939383534866 1\n",
            "[the corresponding algorithms]\n",
            "Upper\n",
            "0.04149387378785165 1\n",
            "[Upper]\n",
            "\n",
            "          Criteria\n",
            "0.019165199360909206 1\n",
            "[\n",
            "          Criteria]\n",
            "These criteria\n",
            "0.019165199360909206 1\n",
            "[These criteria]\n"
          ]
        }
      ]
    }
  ]
}